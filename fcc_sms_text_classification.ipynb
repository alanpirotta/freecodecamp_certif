{
  "cells": [
    {
      "cell_type": "markdown",
      "metadata": {
        "id": "view-in-github",
        "colab_type": "text"
      },
      "source": [
        "<a href=\"https://colab.research.google.com/github/alanpirotta/freecodecamp_certif/blob/main/fcc_sms_text_classification.ipynb\" target=\"_parent\"><img src=\"https://colab.research.google.com/assets/colab-badge.svg\" alt=\"Open In Colab\"/></a>"
      ]
    },
    {
      "cell_type": "markdown",
      "metadata": {
        "id": "Eg62Pmz3o83v"
      },
      "source": [
        "*Note: You are currently reading this using Google Colaboratory which is a cloud-hosted version of Jupyter Notebook. This is a document containing both text cells for documentation and runnable code cells. If you are unfamiliar with Jupyter Notebook, watch this 3-minute introduction before starting this challenge: https://www.youtube.com/watch?v=inN8seMm7UI*\n",
        "\n",
        "---\n",
        "\n",
        "In this challenge, you need to create a machine learning model that will classify SMS messages as either \"ham\" or \"spam\". A \"ham\" message is a normal message sent by a friend. A \"spam\" message is an advertisement or a message sent by a company.\n",
        "\n",
        "You should create a function called `predict_message` that takes a message string as an argument and returns a list. The first element in the list should be a number between zero and one that indicates the likeliness of \"ham\" (0) or \"spam\" (1). The second element in the list should be the word \"ham\" or \"spam\", depending on which is most likely.\n",
        "\n",
        "For this challenge, you will use the [SMS Spam Collection dataset](http://www.dt.fee.unicamp.br/~tiago/smsspamcollection/). The dataset has already been grouped into train data and test data.\n",
        "\n",
        "The first two cells import the libraries and data. The final cell tests your model and function. Add your code in between these cells.\n"
      ]
    },
    {
      "cell_type": "markdown",
      "source": [
        "##Import libraries and datasets"
      ],
      "metadata": {
        "id": "yNecHLH8MSI4"
      }
    },
    {
      "cell_type": "code",
      "execution_count": null,
      "metadata": {
        "id": "8RZOuS9LWQvv"
      },
      "outputs": [],
      "source": [
        "# import libraries\n",
        "try:\n",
        "  # %tensorflow_version only exists in Colab.\n",
        "  !pip install tf-nightly\n",
        "except Exception:\n",
        "  pass\n",
        "import tensorflow as tf\n",
        "import pandas as pd\n",
        "from tensorflow import keras\n",
        "!pip install tensorflow-datasets\n",
        "import tensorflow_datasets as tfds\n",
        "import numpy as np\n",
        "import matplotlib.pyplot as plt\n",
        "\n",
        "print(tf.__version__)"
      ]
    },
    {
      "cell_type": "code",
      "execution_count": null,
      "metadata": {
        "id": "lMHwYXHXCar3"
      },
      "outputs": [],
      "source": [
        "# get data files\n",
        "!wget https://cdn.freecodecamp.org/project-data/sms/train-data.tsv\n",
        "!wget https://cdn.freecodecamp.org/project-data/sms/valid-data.tsv\n",
        "\n",
        "train_file_path = \"train-data.tsv\"\n",
        "test_file_path = \"valid-data.tsv\""
      ]
    },
    {
      "cell_type": "code",
      "execution_count": null,
      "metadata": {
        "id": "g_h508FEClxO"
      },
      "outputs": [],
      "source": [
        "train_ds = pd.read_table(train_file_path, names=('result','sms'))\n",
        "test_ds = pd.read_table(test_file_path, names=('result','sms'))"
      ]
    },
    {
      "cell_type": "code",
      "source": [
        "train_ds"
      ],
      "metadata": {
        "id": "nbn6-_YY-3Jv"
      },
      "execution_count": null,
      "outputs": []
    },
    {
      "cell_type": "code",
      "source": [
        "test_ds.shape"
      ],
      "metadata": {
        "id": "_Gn6HYLE-3FK"
      },
      "execution_count": null,
      "outputs": []
    },
    {
      "cell_type": "markdown",
      "source": [
        "##Checking unbalance:"
      ],
      "metadata": {
        "id": "WBGTQ9EvKV7R"
      }
    },
    {
      "cell_type": "code",
      "source": [
        "train_count = train_ds['result'].value_counts()/train_ds['result'].count()\n",
        "print(f'Percentage of {train_count.index[0]} in train: {train_count[0]:.2f}\\nPercentage of {train_count.index[1]} in train: {train_count[1]:.2f}')\n",
        "plt.bar(train_count.index, height=train_count)\n",
        "plt.show()"
      ],
      "metadata": {
        "id": "CfPbO7rt-2_7"
      },
      "execution_count": null,
      "outputs": []
    },
    {
      "cell_type": "code",
      "source": [
        "test_count = test_ds['result'].value_counts()/test_ds['result'].count()\n",
        "print(f'Percentage of {test_count.index[0]} in test: {test_count[0]:.2f}\\nPercentage of {test_count.index[1]} in test: {test_count[1]:.2f}')\n",
        "plt.bar(test_count.index, height=test_count)\n",
        "plt.show()"
      ],
      "metadata": {
        "id": "kyVlpCtGKd9Z"
      },
      "execution_count": null,
      "outputs": []
    },
    {
      "cell_type": "markdown",
      "source": [
        "i think is quite unbalanced, but may be enough to work with. Both dataset has the same unbalance, so it's another reason to continue with this dataset (probably stratified when splitted)."
      ],
      "metadata": {
        "id": "rB_vnRQfKY6J"
      }
    },
    {
      "cell_type": "markdown",
      "source": [
        "## Feature engineering"
      ],
      "metadata": {
        "id": "GAcGjox5MDhO"
      }
    },
    {
      "cell_type": "markdown",
      "source": [
        "###Convert and extract the result feature in binary (0/1)"
      ],
      "metadata": {
        "id": "6rwpZR-_OmCp"
      }
    },
    {
      "cell_type": "code",
      "source": [
        "train_ds['result'] = np.where(train_ds['result'] == 'spam', 1, 0)\n",
        "test_ds['result'] = np.where(test_ds['result'] == 'spam', 1, 0)"
      ],
      "metadata": {
        "id": "nZXEfZIU-242"
      },
      "execution_count": null,
      "outputs": []
    },
    {
      "cell_type": "code",
      "source": [
        "train_y = train_ds.pop('result')\n",
        "test_y = test_ds.pop('result')"
      ],
      "metadata": {
        "id": "y7JB9w7dL7_t"
      },
      "execution_count": null,
      "outputs": []
    },
    {
      "cell_type": "markdown",
      "source": [
        "###Tokenize the sms column data"
      ],
      "metadata": {
        "id": "w-y6fMN2bDpE"
      }
    },
    {
      "cell_type": "markdown",
      "source": [
        "####First: i select one sample of the dataset, to check different options."
      ],
      "metadata": {
        "id": "ehWx7xolbG3s"
      }
    },
    {
      "cell_type": "code",
      "source": [
        "sample = train_ds['sms'].iloc[100]\n",
        "print(sample)\n",
        "type(sample)"
      ],
      "metadata": {
        "id": "9JSaJxfXL76B"
      },
      "execution_count": null,
      "outputs": []
    },
    {
      "cell_type": "markdown",
      "source": [
        "#####Option 1: with nltk library and word_tokenize. It works well."
      ],
      "metadata": {
        "id": "JHPxNwo9bQRd"
      }
    },
    {
      "cell_type": "code",
      "source": [
        "pip install --user -U nltk"
      ],
      "metadata": {
        "id": "puyHnFVBQep7"
      },
      "execution_count": null,
      "outputs": []
    },
    {
      "cell_type": "code",
      "source": [
        "import nltk\n",
        "nltk.download('punkt')\n",
        "from nltk.tokenize import word_tokenize "
      ],
      "metadata": {
        "id": "zGFgeUCrL73N"
      },
      "execution_count": null,
      "outputs": []
    },
    {
      "cell_type": "code",
      "source": [
        "word_tokenize(sample)"
      ],
      "metadata": {
        "id": "5L367dTvL70m"
      },
      "execution_count": null,
      "outputs": []
    },
    {
      "cell_type": "markdown",
      "source": [
        "#####Option 2: with keras and text_to_word_sequence\n",
        "It works well too. I like more this approach, i think is better for the contramptions."
      ],
      "metadata": {
        "id": "85PbCCOnbjnB"
      }
    },
    {
      "cell_type": "code",
      "source": [
        "from keras.preprocessing.text import text_to_word_sequence"
      ],
      "metadata": {
        "id": "ZmS7JG2tL7xr"
      },
      "execution_count": null,
      "outputs": []
    },
    {
      "cell_type": "code",
      "source": [
        "text_to_word_sequence(sample)"
      ],
      "metadata": {
        "id": "7fwqY40GL7vE"
      },
      "execution_count": null,
      "outputs": []
    },
    {
      "cell_type": "markdown",
      "source": [
        "#####Option 3: Use keras tokenizer.\n",
        "Apparently returns the same result as option 2"
      ],
      "metadata": {
        "id": "n9glx_oleWGt"
      }
    },
    {
      "cell_type": "code",
      "source": [
        "from keras.preprocessing.text import Tokenizer"
      ],
      "metadata": {
        "id": "z-Aa4io3cEpK"
      },
      "execution_count": null,
      "outputs": []
    },
    {
      "cell_type": "code",
      "source": [
        "sample_texts = pd.DataFrame([train_ds.iloc[100].values], index=[100], columns=['sms'])"
      ],
      "metadata": {
        "id": "Pvx1K2u-kX5o"
      },
      "execution_count": null,
      "outputs": []
    },
    {
      "cell_type": "code",
      "source": [
        "max_words = 5000\n",
        "test_tok = Tokenizer(lower=True)"
      ],
      "metadata": {
        "id": "nMDJEWE5kX77"
      },
      "execution_count": null,
      "outputs": []
    },
    {
      "cell_type": "code",
      "source": [
        "test_tok.fit_on_texts(sample_texts['sms'])"
      ],
      "metadata": {
        "id": "HvyK7xaEk786"
      },
      "execution_count": null,
      "outputs": []
    },
    {
      "cell_type": "code",
      "source": [
        "test_tok.word_counts"
      ],
      "metadata": {
        "id": "hUsJ6vaik76o"
      },
      "execution_count": null,
      "outputs": []
    },
    {
      "cell_type": "markdown",
      "source": [
        "####Second: Tokenize the entire column with option 3"
      ],
      "metadata": {
        "id": "2pC-peZHniPb"
      }
    },
    {
      "cell_type": "code",
      "source": [
        "max_words = 5000\n",
        "tok = Tokenizer(num_words=max_words, lower=True)"
      ],
      "metadata": {
        "id": "b0b88ghPecmL"
      },
      "execution_count": null,
      "outputs": []
    },
    {
      "cell_type": "code",
      "source": [
        "tok.fit_on_texts(train_ds['sms'])"
      ],
      "metadata": {
        "id": "SMhkWQmtecjL"
      },
      "execution_count": null,
      "outputs": []
    },
    {
      "cell_type": "code",
      "source": [
        "tok.document_count"
      ],
      "metadata": {
        "id": "-Rgyr7U9hinj"
      },
      "execution_count": null,
      "outputs": []
    },
    {
      "cell_type": "code",
      "source": [
        "tok.word_counts"
      ],
      "metadata": {
        "id": "mcfOGgTSecg4"
      },
      "execution_count": null,
      "outputs": []
    },
    {
      "cell_type": "markdown",
      "source": [
        "####Third: Create the sparse matrix for the number of words selected"
      ],
      "metadata": {
        "id": "YAFQmORbnu3N"
      }
    },
    {
      "cell_type": "code",
      "source": [
        "train_matrix = tok.texts_to_matrix(train_ds['sms'], mode='binary')\n",
        "test_matrix = tok.texts_to_matrix(test_ds['sms'], mode='binary')"
      ],
      "metadata": {
        "id": "qzj_GGzaeca-"
      },
      "execution_count": null,
      "outputs": []
    },
    {
      "cell_type": "code",
      "source": [
        "train_matrix.shape, test_matrix.shape"
      ],
      "metadata": {
        "id": "MDZ2AOJKecRS"
      },
      "execution_count": null,
      "outputs": []
    },
    {
      "cell_type": "code",
      "source": [
        "unique, counts = np.unique(train_matrix[100], return_counts=True)\n",
        "dict(zip(unique, counts))"
      ],
      "metadata": {
        "id": "IDJuPnEMpdZ7"
      },
      "execution_count": null,
      "outputs": []
    },
    {
      "cell_type": "code",
      "source": [
        "tok.word_index.items()"
      ],
      "metadata": {
        "id": "xCi1ZT-GpMJz"
      },
      "execution_count": null,
      "outputs": []
    },
    {
      "cell_type": "markdown",
      "source": [
        "####Third-bis: Another way to vectorize the data, with option 1 tokenizer, generating a df to visually check the data"
      ],
      "metadata": {
        "id": "e4LhkJVIryZL"
      }
    },
    {
      "cell_type": "code",
      "source": [
        "from sklearn.feature_extraction.text import CountVectorizer"
      ],
      "metadata": {
        "id": "Kkv6pz5SsXgD"
      },
      "execution_count": null,
      "outputs": []
    },
    {
      "cell_type": "code",
      "source": [
        "vectorizer = CountVectorizer(binary=True, analyzer=word_tokenize, max_features=3000)"
      ],
      "metadata": {
        "id": "Re-BE-bUsXeF"
      },
      "execution_count": null,
      "outputs": []
    },
    {
      "cell_type": "code",
      "source": [
        "vectors = vectorizer.fit_transform(train_ds['sms'])"
      ],
      "metadata": {
        "id": "Ei_azBCEsXbg"
      },
      "execution_count": null,
      "outputs": []
    },
    {
      "cell_type": "code",
      "source": [
        "vocabulary = vectorizer.vocabulary_"
      ],
      "metadata": {
        "id": "OPt_NwTasXY9"
      },
      "execution_count": null,
      "outputs": []
    },
    {
      "cell_type": "code",
      "source": [
        "sorted(vocabulary.items(), key=lambda item: item[1])"
      ],
      "metadata": {
        "id": "kJhb8RWXsXWh"
      },
      "execution_count": null,
      "outputs": []
    },
    {
      "cell_type": "code",
      "source": [
        "columns = [token for token, _ in sorted(vocabulary.items(), key=lambda item: item[1])]"
      ],
      "metadata": {
        "id": "zS2s1WwTsXUb"
      },
      "execution_count": null,
      "outputs": []
    },
    {
      "cell_type": "code",
      "source": [
        "matrix_df = pd.DataFrame(vectors.todense(), columns=columns, index=[i for i in range(0,len(train_ds))])"
      ],
      "metadata": {
        "id": "0E4DP0imsXRe"
      },
      "execution_count": null,
      "outputs": []
    },
    {
      "cell_type": "code",
      "source": [
        "matrix_df"
      ],
      "metadata": {
        "id": "FTyOLGyHy0FK"
      },
      "execution_count": null,
      "outputs": []
    },
    {
      "cell_type": "markdown",
      "source": [
        "i see el lot of tokens that probably aren't significative for the model (like !, #, $, etc). This could be a way to get better results, filtering those in the tokenize step"
      ],
      "metadata": {
        "id": "LOokROvkzZam"
      }
    },
    {
      "cell_type": "markdown",
      "source": [
        "###Creating the final sparse matrices with alternative 3rd step"
      ],
      "metadata": {
        "id": "6WL28Ih7zkGg"
      }
    },
    {
      "cell_type": "code",
      "source": [
        "final_vectorizer = CountVectorizer(binary=True, analyzer=word_tokenize, max_features=3000)"
      ],
      "metadata": {
        "id": "MUlLKXG8zwSk"
      },
      "execution_count": null,
      "outputs": []
    },
    {
      "cell_type": "code",
      "source": [
        "final_vectorizer.fit(train_ds['sms'])"
      ],
      "metadata": {
        "id": "_oVv1r3fzwP0"
      },
      "execution_count": null,
      "outputs": []
    },
    {
      "cell_type": "code",
      "source": [
        "train_x = final_vectorizer.transform(train_ds['sms'])\n",
        "test_x = final_vectorizer.transform(test_ds['sms'])"
      ],
      "metadata": {
        "id": "eDSsu36RzwLT"
      },
      "execution_count": null,
      "outputs": []
    },
    {
      "cell_type": "code",
      "source": [
        "train_x.shape, train_y.shape"
      ],
      "metadata": {
        "id": "yk7gGrbk0x9U"
      },
      "execution_count": null,
      "outputs": []
    },
    {
      "cell_type": "code",
      "source": [
        "test_x.shape, test_y.shape"
      ],
      "metadata": {
        "id": "A_WLu7xe1-oy"
      },
      "execution_count": null,
      "outputs": []
    },
    {
      "cell_type": "markdown",
      "source": [
        "##Create the classification model"
      ],
      "metadata": {
        "id": "-7bNVzzhrBRw"
      }
    },
    {
      "cell_type": "markdown",
      "source": [
        "### LogisticRegression"
      ],
      "metadata": {
        "id": "-AxVtZlE2W4S"
      }
    },
    {
      "cell_type": "code",
      "source": [
        "from sklearn.linear_model import LogisticRegression"
      ],
      "metadata": {
        "id": "CN8Gj5scrBDl"
      },
      "execution_count": null,
      "outputs": []
    },
    {
      "cell_type": "code",
      "source": [
        "lr = LogisticRegression()"
      ],
      "metadata": {
        "id": "IQz1sVpoqvee"
      },
      "execution_count": null,
      "outputs": []
    },
    {
      "cell_type": "code",
      "source": [
        "lr.fit(train_x, train_y)"
      ],
      "metadata": {
        "id": "niZxS8Vq2k_U"
      },
      "execution_count": null,
      "outputs": []
    },
    {
      "cell_type": "code",
      "source": [
        "train_pred = lr.predict(train_x)\n",
        "test_pred = lr.predict(test_x) "
      ],
      "metadata": {
        "id": "3mDbPVU42k7z"
      },
      "execution_count": null,
      "outputs": []
    },
    {
      "cell_type": "code",
      "source": [
        "from sklearn.metrics import accuracy_score, classification_report"
      ],
      "metadata": {
        "id": "0OPnAPRP2k5I"
      },
      "execution_count": null,
      "outputs": []
    },
    {
      "cell_type": "code",
      "source": [
        "accuracy_score(train_y, train_pred), accuracy_score(test_y, test_pred)"
      ],
      "metadata": {
        "id": "qmSX9veM3Bkw"
      },
      "execution_count": null,
      "outputs": []
    },
    {
      "cell_type": "code",
      "source": [
        "print('train data:')\n",
        "print(classification_report(train_y, train_pred))\n",
        "print('-----------------------------------------------------')\n",
        "print('test data:')\n",
        "print(classification_report(test_y, test_pred))"
      ],
      "metadata": {
        "id": "ha6Q_ed43BiN"
      },
      "execution_count": null,
      "outputs": []
    },
    {
      "cell_type": "code",
      "source": [
        "train_ds"
      ],
      "metadata": {
        "id": "s8lRnfHx5ueA"
      },
      "execution_count": null,
      "outputs": []
    },
    {
      "cell_type": "markdown",
      "source": [
        "##Construct Function"
      ],
      "metadata": {
        "id": "muNxpv9qMdhk"
      }
    },
    {
      "cell_type": "code",
      "execution_count": null,
      "metadata": {
        "id": "J9tD9yACG6M9"
      },
      "outputs": [],
      "source": [
        "# function to predict messages based on model\n",
        "# (should return list containing prediction and label, ex. [0.008318834938108921, 'ham'])\n",
        "def predict_message(pred_text):\n",
        "  series_text =pd.Series(pred_text)\n",
        "  vector_text = final_vectorizer.transform(series_text)\n",
        "  prediction = list(lr.predict(vector_text))\n",
        "  if prediction[0] == 1:\n",
        "    prediction.append(\"spam\")\n",
        "  else:\n",
        "    prediction.append(\"ham\")\n",
        "  return (prediction)\n",
        "\n",
        "pred_text = \"how are you doing today\"\n",
        "\n",
        "prediction = predict_message(pred_text)\n",
        "print(prediction)"
      ]
    },
    {
      "cell_type": "code",
      "execution_count": null,
      "metadata": {
        "id": "Dxotov85SjsC"
      },
      "outputs": [],
      "source": [
        "# Run this cell to test your function and model. Do not modify contents.\n",
        "def test_predictions():\n",
        "  test_messages = [\"how are you doing today\",\n",
        "                   \"sale today! to stop texts call 98912460324\",\n",
        "                   \"i dont want to go. can we try it a different day? available sat\",\n",
        "                   \"our new mobile video service is live. just install on your phone to start watching.\",\n",
        "                   \"you have won £1000 cash! call to claim your prize.\",\n",
        "                   \"i'll bring it tomorrow. don't forget the milk.\",\n",
        "                   \"wow, is your arm alright. that happened to me one time too\"\n",
        "                  ]\n",
        "\n",
        "  test_answers = [\"ham\", \"spam\", \"ham\", \"spam\", \"spam\", \"ham\", \"ham\"]\n",
        "  passed = True\n",
        "\n",
        "  for msg, ans in zip(test_messages, test_answers):\n",
        "    prediction = predict_message(msg)\n",
        "    if prediction[1] != ans:\n",
        "      passed = False\n",
        "\n",
        "  if passed:\n",
        "    print(\"You passed the challenge. Great job!\")\n",
        "  else:\n",
        "    print(\"You haven't passed yet. Keep trying.\")\n",
        "\n",
        "test_predictions()\n"
      ]
    }
  ],
  "metadata": {
    "colab": {
      "collapsed_sections": [],
      "name": "fcc_sms_text_classification.ipynb",
      "private_outputs": true,
      "provenance": [],
      "include_colab_link": true
    },
    "kernelspec": {
      "display_name": "Python 3",
      "name": "python3"
    },
    "language_info": {}
  },
  "nbformat": 4,
  "nbformat_minor": 0
}