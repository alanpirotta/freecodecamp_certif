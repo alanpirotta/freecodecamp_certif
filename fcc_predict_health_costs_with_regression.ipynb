{
  "nbformat": 4,
  "nbformat_minor": 0,
  "metadata": {
    "colab": {
      "name": "fcc_predict_health_costs_with_regression.ipynb",
      "provenance": [],
      "private_outputs": true,
      "collapsed_sections": [],
      "include_colab_link": true
    },
    "kernelspec": {
      "display_name": "Python 3",
      "name": "python3"
    }
  },
  "cells": [
    {
      "cell_type": "markdown",
      "metadata": {
        "id": "view-in-github",
        "colab_type": "text"
      },
      "source": [
        "<a href=\"https://colab.research.google.com/github/alanpirotta/freecodecamp_certif/blob/main/fcc_predict_health_costs_with_regression.ipynb\" target=\"_parent\"><img src=\"https://colab.research.google.com/assets/colab-badge.svg\" alt=\"Open In Colab\"/></a>"
      ]
    },
    {
      "cell_type": "markdown",
      "metadata": {
        "id": "M9TX15KOkPBV"
      },
      "source": [
        "*Note: You are currently reading this using Google Colaboratory which is a cloud-hosted version of Jupyter Notebook. This is a document containing both text cells for documentation and runnable code cells. If you are unfamiliar with Jupyter Notebook, watch this 3-minute introduction before starting this challenge: https://www.youtube.com/watch?v=inN8seMm7UI*\n",
        "\n",
        "---\n",
        "\n",
        "In this challenge, you will predict healthcare costs using a regression algorithm.\n",
        "\n",
        "You are given a dataset that contains information about different people including their healthcare costs. Use the data to predict healthcare costs based on new data.\n",
        "\n",
        "The first two cells of this notebook import libraries and the data.\n",
        "\n",
        "Make sure to convert categorical data to numbers. Use 80% of the data as the `train_dataset` and 20% of the data as the `test_dataset`.\n",
        "\n",
        "`pop` off the \"expenses\" column from these datasets to create new datasets called `train_labels` and `test_labels`. Use these labels when training your model.\n",
        "\n",
        "Create a model and train it with the `train_dataset`. Run the final cell in this notebook to check your model. The final cell will use the unseen `test_dataset` to check how well the model generalizes.\n",
        "\n",
        "To pass the challenge, `model.evaluate` must return a Mean Absolute Error of under 3500. This means it predicts health care costs correctly within $3500.\n",
        "\n",
        "The final cell will also predict expenses using the `test_dataset` and graph the results."
      ]
    },
    {
      "cell_type": "code",
      "metadata": {
        "id": "1rRo8oNqZ-Rj"
      },
      "source": [
        "# Import libraries. You may or may not use all of these.\n",
        "!pip install -q git+https://github.com/tensorflow/docs\n",
        "import matplotlib.pyplot as plt\n",
        "import numpy as np\n",
        "import pandas as pd\n",
        "\n",
        "try:\n",
        "  # %tensorflow_version only exists in Colab.\n",
        "  %tensorflow_version 2.x\n",
        "except Exception:\n",
        "  pass\n",
        "import tensorflow as tf\n",
        "\n",
        "from tensorflow import keras\n",
        "from tensorflow.keras import layers\n",
        "\n",
        "import tensorflow_docs as tfdocs\n",
        "import tensorflow_docs.plots\n",
        "import tensorflow_docs.modeling"
      ],
      "execution_count": null,
      "outputs": []
    },
    {
      "cell_type": "code",
      "source": [
        "pip install tensorflow_decision_forests"
      ],
      "metadata": {
        "id": "zfqB2yYterep"
      },
      "execution_count": null,
      "outputs": []
    },
    {
      "cell_type": "code",
      "source": [
        "pip install wurlitzer"
      ],
      "metadata": {
        "id": "4IkxqI-meu6O"
      },
      "execution_count": null,
      "outputs": []
    },
    {
      "cell_type": "code",
      "source": [
        "import tensorflow_decision_forests as tfdf\n",
        "\n",
        "try:\n",
        "  from wurlitzer import sys_pipes\n",
        "except:\n",
        "  from colabtools.googlelog import CaptureLog as sys_pipes"
      ],
      "metadata": {
        "id": "PySZsUTqeyNW"
      },
      "execution_count": null,
      "outputs": []
    },
    {
      "cell_type": "code",
      "source": [
        "# Check the version of TensorFlow Decision Forests\n",
        "print(\"Found TensorFlow Decision Forests v\" + tfdf.__version__)"
      ],
      "metadata": {
        "id": "gWw_NH4ue8KW"
      },
      "execution_count": null,
      "outputs": []
    },
    {
      "cell_type": "code",
      "metadata": {
        "id": "CiX2FI4gZtTt"
      },
      "source": [
        "# Import data\n",
        "!wget https://cdn.freecodecamp.org/project-data/health-costs/insurance.csv\n",
        "dataset = pd.read_csv('insurance.csv')\n",
        "dataset.tail()"
      ],
      "execution_count": null,
      "outputs": []
    },
    {
      "cell_type": "markdown",
      "source": [
        "### Change categorical data to numbers.\n",
        "Binary if possible"
      ],
      "metadata": {
        "id": "TCWlOSxxwBB0"
      }
    },
    {
      "cell_type": "code",
      "source": [
        "feature = \"region\"\n",
        "classes = dataset[feature].unique().tolist()\n",
        "print(f\"Feature classes: {classes}\")\n",
        "\n",
        "dataset[feature] = dataset[feature].map(classes.index)\n",
        "\n",
        "# More manual Alternative \n",
        "# dataset['region'] = dataset['region'].replace({'southeast': 0,\n",
        "#                                               'southwest': 1,\n",
        "#                                               'northwest': 2,\n",
        "#                                               'northeast': 3\n",
        "#                                             })\n",
        "print(dataset['region'].value_counts())\n",
        "dataset.tail()"
      ],
      "metadata": {
        "id": "4OjuJKiSwk_t"
      },
      "execution_count": null,
      "outputs": []
    },
    {
      "cell_type": "code",
      "source": [
        "dataset['smoker'] = np.where(dataset['smoker']=='yes',1,0)\n",
        "print(dataset['smoker'].value_counts())\n",
        "dataset.tail()"
      ],
      "metadata": {
        "id": "0brTGHEywPVl"
      },
      "execution_count": null,
      "outputs": []
    },
    {
      "cell_type": "code",
      "metadata": {
        "id": "LcopvQh3X-kX"
      },
      "source": [
        "dataset['sex'] = np.where(dataset['sex']=='male',1,0)\n",
        "print(dataset['sex'].value_counts())\n",
        "dataset.tail()"
      ],
      "execution_count": null,
      "outputs": []
    },
    {
      "cell_type": "markdown",
      "source": [
        "### Split between train and test datasets"
      ],
      "metadata": {
        "id": "mHncxWp41Ysm"
      }
    },
    {
      "cell_type": "code",
      "source": [
        "from sklearn.model_selection import train_test_split\n",
        "train_dataset_pd, test_dataset_pd = train_test_split(dataset, test_size=0.2)\n",
        "print(f'train shape: {train_dataset_pd.shape}')\n",
        "print(f'test shape: {test_dataset_pd.shape}')\n",
        "train_dataset_pd.tail()"
      ],
      "metadata": {
        "id": "wZ309r4gyu5l"
      },
      "execution_count": null,
      "outputs": []
    },
    {
      "cell_type": "code",
      "source": [
        "Q1 = train_dataset_pd['bmi'].quantile(0.25)\n",
        "Q3 = train_dataset_pd['bmi'].quantile(0.75)  \n",
        "IQR = Q3 - Q1\n",
        "print (Q1 - 1.5 * IQR)\n",
        "print (Q3 + 1.5 * IQR)\n",
        "outliers = train_dataset_pd[(train_dataset_pd['bmi'] < (Q1 - 1.5 * IQR)) | (train_dataset_pd['bmi'] > (Q3 + 1.5 * IQR))]\n",
        "train_dataset_pd = train_dataset_pd.drop(outliers.index)"
      ],
      "metadata": {
        "id": "sTnEalOEJ07p"
      },
      "execution_count": null,
      "outputs": []
    },
    {
      "cell_type": "code",
      "source": [
        "label = 'expenses'\n",
        "\n",
        "train_dataset = tfdf.keras.pd_dataframe_to_tf_dataset(train_dataset_pd, label=label, task=tfdf.keras.Task.REGRESSION)\n",
        "test_dataset = tfdf.keras.pd_dataframe_to_tf_dataset(test_dataset_pd, label=label, task=tfdf.keras.Task.REGRESSION)"
      ],
      "metadata": {
        "id": "9w-3eC6vH-1w"
      },
      "execution_count": null,
      "outputs": []
    },
    {
      "cell_type": "code",
      "source": [
        "model = tfdf.keras.RandomForestModel(task = tfdf.keras.Task.REGRESSION)\n",
        "model.compile(metrics=[[\"mae\",\"mse\"]])\n",
        "with sys_pipes():\n",
        "  model.fit(x=train_dataset)"
      ],
      "metadata": {
        "id": "ZjAFkatmcCU8"
      },
      "execution_count": null,
      "outputs": []
    },
    {
      "cell_type": "code",
      "source": [
        "evaluation = model.evaluate(test_dataset, return_dict=True)\n",
        "print(evaluation)"
      ],
      "metadata": {
        "id": "TPFVOrsqhgkS"
      },
      "execution_count": null,
      "outputs": []
    },
    {
      "cell_type": "code",
      "source": [
        "test_labels = test_dataset_pd['expenses']\n",
        "test_labels"
      ],
      "metadata": {
        "id": "gQp7ywrvhOG0"
      },
      "execution_count": null,
      "outputs": []
    },
    {
      "cell_type": "code",
      "metadata": {
        "id": "Xe7RXH3N3CWU"
      },
      "source": [
        "# RUN THIS CELL TO TEST YOUR MODEL. DO NOT MODIFY CONTENTS.\n",
        "# Test model by checking how well the model generalizes using the test set.\n",
        "loss, mae, mse = model.evaluate(test_dataset, verbose=2)\n",
        "\n",
        "print(\"Testing set Mean Abs Error: {:5.2f} expenses\".format(mae))\n",
        "\n",
        "if mae < 3500:\n",
        "  print(\"You passed the challenge. Great job!\")\n",
        "else:\n",
        "  print(\"The Mean Abs Error must be less than 3500. Keep trying.\")\n",
        "\n",
        "# Plot predictions.\n",
        "test_predictions = model.predict(test_dataset).flatten()\n",
        "\n",
        "a = plt.axes(aspect='equal')\n",
        "plt.scatter(test_labels, test_predictions)\n",
        "plt.xlabel('True values (expenses)')\n",
        "plt.ylabel('Predictions (expenses)')\n",
        "lims = [0, 50000]\n",
        "plt.xlim(lims)\n",
        "plt.ylim(lims)\n",
        "_ = plt.plot(lims,lims)\n"
      ],
      "execution_count": null,
      "outputs": []
    },
    {
      "cell_type": "code",
      "source": [
        ""
      ],
      "metadata": {
        "id": "oEa1v7Z-4uwh"
      },
      "execution_count": null,
      "outputs": []
    }
  ]
}