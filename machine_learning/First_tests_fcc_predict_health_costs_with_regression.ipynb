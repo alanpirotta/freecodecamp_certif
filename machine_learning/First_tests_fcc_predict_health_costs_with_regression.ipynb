{
  "nbformat": 4,
  "nbformat_minor": 0,
  "metadata": {
    "colab": {
      "name": "First_tests_fcc_predict_health_costs_with_regression.ipynb",
      "provenance": [],
      "private_outputs": true,
      "collapsed_sections": [],
      "include_colab_link": true
    },
    "kernelspec": {
      "display_name": "Python 3",
      "name": "python3"
    }
  },
  "cells": [
    {
      "cell_type": "markdown",
      "metadata": {
        "id": "view-in-github",
        "colab_type": "text"
      },
      "source": [
        "<a href=\"https://colab.research.google.com/github/alanpirotta/freecodecamp_certif/blob/main/First_tests_fcc_predict_health_costs_with_regression.ipynb\" target=\"_parent\"><img src=\"https://colab.research.google.com/assets/colab-badge.svg\" alt=\"Open In Colab\"/></a>"
      ]
    },
    {
      "cell_type": "markdown",
      "metadata": {
        "id": "M9TX15KOkPBV"
      },
      "source": [
        "*Note: You are currently reading this using Google Colaboratory which is a cloud-hosted version of Jupyter Notebook. This is a document containing both text cells for documentation and runnable code cells. If you are unfamiliar with Jupyter Notebook, watch this 3-minute introduction before starting this challenge: https://www.youtube.com/watch?v=inN8seMm7UI*\n",
        "\n",
        "---\n",
        "\n",
        "In this challenge, you will predict healthcare costs using a regression algorithm.\n",
        "\n",
        "You are given a dataset that contains information about different people including their healthcare costs. Use the data to predict healthcare costs based on new data.\n",
        "\n",
        "The first two cells of this notebook import libraries and the data.\n",
        "\n",
        "Make sure to convert categorical data to numbers. Use 80% of the data as the `train_dataset` and 20% of the data as the `test_dataset`.\n",
        "\n",
        "`pop` off the \"expenses\" column from these datasets to create new datasets called `train_labels` and `test_labels`. Use these labels when training your model.\n",
        "\n",
        "Create a model and train it with the `train_dataset`. Run the final cell in this notebook to check your model. The final cell will use the unseen `test_dataset` to check how well the model generalizes.\n",
        "\n",
        "To pass the challenge, `model.evaluate` must return a Mean Absolute Error of under 3500. This means it predicts health care costs correctly within $3500.\n",
        "\n",
        "The final cell will also predict expenses using the `test_dataset` and graph the results."
      ]
    },
    {
      "cell_type": "code",
      "metadata": {
        "id": "1rRo8oNqZ-Rj"
      },
      "source": [
        "# Import libraries. You may or may not use all of these.\n",
        "!pip install -q git+https://github.com/tensorflow/docs\n",
        "import matplotlib.pyplot as plt\n",
        "import numpy as np\n",
        "import pandas as pd\n",
        "\n",
        "try:\n",
        "  # %tensorflow_version only exists in Colab.\n",
        "  %tensorflow_version 2.x\n",
        "except Exception:\n",
        "  pass\n",
        "import tensorflow as tf\n",
        "\n",
        "from tensorflow import keras\n",
        "from tensorflow.keras import layers\n",
        "\n",
        "import tensorflow_docs as tfdocs\n",
        "import tensorflow_docs.plots\n",
        "import tensorflow_docs.modeling"
      ],
      "execution_count": null,
      "outputs": []
    },
    {
      "cell_type": "code",
      "metadata": {
        "id": "CiX2FI4gZtTt"
      },
      "source": [
        "# Import data\n",
        "!wget https://cdn.freecodecamp.org/project-data/health-costs/insurance.csv\n",
        "dataset = pd.read_csv('insurance.csv')\n",
        "dataset.tail()"
      ],
      "execution_count": null,
      "outputs": []
    },
    {
      "cell_type": "markdown",
      "source": [
        "### Change categorical data to numbers.\n",
        "Binary if possible"
      ],
      "metadata": {
        "id": "TCWlOSxxwBB0"
      }
    },
    {
      "cell_type": "code",
      "source": [
        "feature = \"region\"\n",
        "classes = dataset[feature].unique().tolist()\n",
        "print(f\"Feature classes: {classes}\")\n",
        "\n",
        "dataset[feature] = dataset[feature].map(classes.index)\n",
        "\n",
        "# More manual Alternative \n",
        "# dataset['region'] = dataset['region'].replace({'southeast': 0,\n",
        "#                                               'southwest': 1,\n",
        "#                                               'northwest': 2,\n",
        "#                                               'northeast': 3\n",
        "#                                             })\n",
        "print(dataset['region'].value_counts())\n",
        "dataset.tail()"
      ],
      "metadata": {
        "id": "4OjuJKiSwk_t"
      },
      "execution_count": null,
      "outputs": []
    },
    {
      "cell_type": "code",
      "source": [
        "dataset['smoker'] = np.where(dataset['smoker']=='yes',1,0)\n",
        "print(dataset['smoker'].value_counts())\n",
        "dataset.tail()"
      ],
      "metadata": {
        "id": "0brTGHEywPVl"
      },
      "execution_count": null,
      "outputs": []
    },
    {
      "cell_type": "code",
      "metadata": {
        "id": "LcopvQh3X-kX"
      },
      "source": [
        "dataset['sex'] = np.where(dataset['sex']=='male',1,0)\n",
        "print(dataset['sex'].value_counts())\n",
        "dataset.tail()"
      ],
      "execution_count": null,
      "outputs": []
    },
    {
      "cell_type": "markdown",
      "source": [
        "### Split between train and test datasets"
      ],
      "metadata": {
        "id": "mHncxWp41Ysm"
      }
    },
    {
      "cell_type": "code",
      "source": [
        "from sklearn.model_selection import train_test_split\n",
        "train_dataset, test_dataset = train_test_split(dataset, test_size=0.2)\n",
        "print(f'train shape: {train_dataset.shape}')\n",
        "print(f'test shape: {test_dataset.shape}')\n",
        "train_dataset.tail()"
      ],
      "metadata": {
        "id": "wZ309r4gyu5l"
      },
      "execution_count": null,
      "outputs": []
    },
    {
      "cell_type": "markdown",
      "source": [
        "### Checking collinearity and outliers"
      ],
      "metadata": {
        "id": "FlQ9R5jFAaiU"
      }
    },
    {
      "cell_type": "code",
      "source": [
        "import seaborn as sns\n",
        "corr = train_dataset.corr()\n",
        "plt.figure(figsize=(5,5))\n",
        "sns.heatmap(corr, mask=np.zeros_like(corr, dtype=np.bool), cmap=sns.diverging_palette(220, 10, as_cmap=True), square=True)\n",
        "plt.show()"
      ],
      "metadata": {
        "id": "rFqLAAUwAWHS"
      },
      "execution_count": null,
      "outputs": []
    },
    {
      "cell_type": "markdown",
      "source": [
        "It seems that bmi and region have an anti-correlation. It probbly means that people in the north has less bmi. i think it's not too significative.\n",
        "If i invert the rename of the regions, the correlation change to around 0.3"
      ],
      "metadata": {
        "id": "lBQDCbvpBVDk"
      }
    },
    {
      "cell_type": "code",
      "source": [
        "fig, ax = plt.subplots(1,2)\n",
        "# ax[0].set_title('bmi')\n",
        "# ax[1].set_title('age')\n",
        "# ax[2].set_title('children')\n",
        "# sns.boxplot(ax=ax[0], data=train_dataset['bmi'])\n",
        "# sns.boxplot(ax=ax[1], data=train_dataset['age'])\n",
        "# sns.boxplot(ax=ax[2], data=train_dataset['children'])\n",
        "sns.boxplot(ax=ax[0], data=train_dataset[['age','bmi']])\n",
        "sns.boxplot(ax=ax[1], data=train_dataset[['sex','children','smoker','region']])\n",
        "plt.show()"
      ],
      "metadata": {
        "id": "zY4rb_NhCTBf"
      },
      "execution_count": null,
      "outputs": []
    },
    {
      "cell_type": "code",
      "source": [
        "train_dataset['smoker'].value_counts()"
      ],
      "metadata": {
        "id": "wv-bSh-lIptT"
      },
      "execution_count": null,
      "outputs": []
    },
    {
      "cell_type": "markdown",
      "source": [
        "the 'outlier' in the smoker feature surprised me, as is binary, but after checking the amount of answers I considered it to be sufficiently balanced.\n",
        "I'll check and remove the bmis outliers"
      ],
      "metadata": {
        "id": "CDS4_vkvImUw"
      }
    },
    {
      "cell_type": "code",
      "source": [
        "plt.figure(figsize=(15,5))\n",
        "sns.distplot(x= train_dataset['bmi'], hist=True, hist_kws={\"edgecolor\": 'w', \"linewidth\": 3}, kde_kws={\"linewidth\": 3}) \n",
        "# labels and title\n",
        "plt.xlabel('bmi')\n",
        "plt.ylabel('frequency')\n",
        "plt.title('Distribution of bmi')\n",
        "plt.show()"
      ],
      "metadata": {
        "id": "qVqlh0H1D7ey"
      },
      "execution_count": null,
      "outputs": []
    },
    {
      "cell_type": "code",
      "source": [
        "Q1 = train_dataset['bmi'].quantile(0.25)\n",
        "Q3 = train_dataset['bmi'].quantile(0.75)  \n",
        "IQR = Q3 - Q1\n",
        "print (Q1 - 1.5 * IQR)\n",
        "print (Q3 + 1.5 * IQR)\n",
        "outliers = train_dataset[(train_dataset['bmi'] < (Q1 - 1.5 * IQR)) | (train_dataset['bmi'] > (Q3 + 1.5 * IQR))]\n",
        "outliers"
      ],
      "metadata": {
        "id": "sTnEalOEJ07p"
      },
      "execution_count": null,
      "outputs": []
    },
    {
      "cell_type": "code",
      "source": [
        "train_dataset = train_dataset.drop(outliers.index)"
      ],
      "metadata": {
        "id": "9w-3eC6vH-1w"
      },
      "execution_count": null,
      "outputs": []
    },
    {
      "cell_type": "code",
      "source": [
        "print(train_dataset.loc[train_dataset.index == 1088])\n",
        "print()\n",
        "print(train_dataset.loc[train_dataset.index == 88])"
      ],
      "metadata": {
        "id": "OfonkUcBNArb"
      },
      "execution_count": null,
      "outputs": []
    },
    {
      "cell_type": "markdown",
      "source": [
        "### Splitting the labels from the train/test dataset"
      ],
      "metadata": {
        "id": "VcRCTqgKObLx"
      }
    },
    {
      "cell_type": "code",
      "source": [
        "train_labels = train_dataset.pop('expenses')\n",
        "test_labels = test_dataset.pop('expenses')"
      ],
      "metadata": {
        "id": "NxM-3GrSOS99"
      },
      "execution_count": null,
      "outputs": []
    },
    {
      "cell_type": "markdown",
      "source": [
        "### First Test with linear regression"
      ],
      "metadata": {
        "id": "JuyJe84m2sl_"
      }
    },
    {
      "cell_type": "code",
      "source": [
        "from sklearn.linear_model import LinearRegression\n",
        "from sklearn.metrics import mean_absolute_error\n",
        "lr = LinearRegression()"
      ],
      "metadata": {
        "id": "Byi5q-hCyu3W"
      },
      "execution_count": null,
      "outputs": []
    },
    {
      "cell_type": "code",
      "source": [
        "lr.fit(train_dataset, train_labels)\n",
        "train_prediction = lr.predict(train_dataset)\n",
        "train_mae = mean_absolute_error(train_prediction, train_labels)\n",
        "train_mae"
      ],
      "metadata": {
        "id": "uTFjd12Uyu0G"
      },
      "execution_count": null,
      "outputs": []
    },
    {
      "cell_type": "code",
      "source": [
        "test_pred = lr.predict(test_dataset)\n",
        "test_mae = mean_absolute_error(test_pred, test_labels)\n",
        "test_mae"
      ],
      "metadata": {
        "id": "UwcuP7pQyuxl"
      },
      "execution_count": null,
      "outputs": []
    },
    {
      "cell_type": "code",
      "source": [
        "print(f'Train score: {lr.score(train_dataset,train_labels)}')\n",
        "print(f'Test score: {lr.score(test_dataset,test_labels)}')"
      ],
      "metadata": {
        "id": "rlByUM_L-2Rp"
      },
      "execution_count": null,
      "outputs": []
    },
    {
      "cell_type": "code",
      "source": [
        "print(lr.intercept_)\n",
        "print(lr.coef_)"
      ],
      "metadata": {
        "id": "oAGSyvAZ60x9"
      },
      "execution_count": null,
      "outputs": []
    },
    {
      "cell_type": "markdown",
      "source": [
        "### Testing with RidgeRegression"
      ],
      "metadata": {
        "id": "icaAYBizPweO"
      }
    },
    {
      "cell_type": "code",
      "source": [
        "from sklearn.linear_model import Ridge\n",
        "rdg=Ridge(alpha=1.0)\n",
        "rdg.fit(train_dataset, train_labels)\n",
        "train_ridge_pred = rdg.predict(train_dataset)\n",
        "train_ridge_mae = mean_absolute_error(train_ridge_pred, train_labels)\n",
        "train_ridge_mae"
      ],
      "metadata": {
        "id": "fEyWItJWPwRw"
      },
      "execution_count": null,
      "outputs": []
    },
    {
      "cell_type": "markdown",
      "source": [
        "It's not useful, as there isn't collinearity and all features affect the results"
      ],
      "metadata": {
        "id": "R9I4vA8VQm8w"
      }
    },
    {
      "cell_type": "markdown",
      "source": [
        "### Testing with Random Forest, using TensorFlow"
      ],
      "metadata": {
        "id": "QPeSTO26YXpN"
      }
    },
    {
      "cell_type": "code",
      "source": [
        "pip install tensorflow_decision_forests"
      ],
      "metadata": {
        "id": "1Snj_dFcbj8e"
      },
      "execution_count": null,
      "outputs": []
    },
    {
      "cell_type": "code",
      "source": [
        "pip install wurlitzer"
      ],
      "metadata": {
        "id": "dodi5xXBbmzy"
      },
      "execution_count": null,
      "outputs": []
    },
    {
      "cell_type": "code",
      "source": [
        "try:\n",
        "  from wurlitzer import sys_pipes\n",
        "except:\n",
        "  from colabtools.googlelog import CaptureLog as sys_pipes"
      ],
      "metadata": {
        "id": "E8YruYH5dGnC"
      },
      "execution_count": null,
      "outputs": []
    },
    {
      "cell_type": "code",
      "source": [
        "import tensorflow_decision_forests as tfdf\n",
        "train_dataset = tfdf.keras.pd_dataframe_to_tf_dataset(train_dataset, task=tfdf.keras.Task.REGRESSION)\n",
        "test_dataset = tfdf.keras.pd_dataframe_to_tf_dataset(test_dataset, task=tfdf.keras.Task.REGRESSION)"
      ],
      "metadata": {
        "id": "UH60oeWDYWpy"
      },
      "execution_count": null,
      "outputs": []
    },
    {
      "cell_type": "code",
      "source": [
        "# Import data\n",
        "!wget https://cdn.freecodecamp.org/project-data/health-costs/insurance.csv\n",
        "dataset = pd.read_csv('insurance.csv')\n",
        "dataset.tail()"
      ],
      "metadata": {
        "id": "-iUt6cZfdYXH"
      },
      "execution_count": null,
      "outputs": []
    },
    {
      "cell_type": "code",
      "source": [
        ""
      ],
      "metadata": {
        "id": "jaQkqWmddZrR"
      },
      "execution_count": null,
      "outputs": []
    },
    {
      "cell_type": "code",
      "source": [
        "model = tfdf.keras.RandomForestModel(task = tfdf.keras.Task.REGRESSION)\n",
        "model.compile(metrics=[\"mae\"])\n",
        "with sys_pipes():\n",
        "  model.fit(x=train_dataset)"
      ],
      "metadata": {
        "id": "ZjAFkatmcCU8"
      },
      "execution_count": null,
      "outputs": []
    },
    {
      "cell_type": "code",
      "metadata": {
        "id": "Xe7RXH3N3CWU"
      },
      "source": [
        "# RUN THIS CELL TO TEST YOUR MODEL. DO NOT MODIFY CONTENTS.\n",
        "# Test model by checking how well the model generalizes using the test set.\n",
        "loss, mae, mse = model.evaluate(test_dataset, test_labels, verbose=2)\n",
        "\n",
        "print(\"Testing set Mean Abs Error: {:5.2f} expenses\".format(mae))\n",
        "\n",
        "if mae < 3500:\n",
        "  print(\"You passed the challenge. Great job!\")\n",
        "else:\n",
        "  print(\"The Mean Abs Error must be less than 3500. Keep trying.\")\n",
        "\n",
        "# Plot predictions.\n",
        "test_predictions = model.predict(test_dataset).flatten()\n",
        "\n",
        "a = plt.axes(aspect='equal')\n",
        "plt.scatter(test_labels, test_predictions)\n",
        "plt.xlabel('True values (expenses)')\n",
        "plt.ylabel('Predictions (expenses)')\n",
        "lims = [0, 50000]\n",
        "plt.xlim(lims)\n",
        "plt.ylim(lims)\n",
        "_ = plt.plot(lims,lims)\n"
      ],
      "execution_count": null,
      "outputs": []
    },
    {
      "cell_type": "code",
      "source": [
        ""
      ],
      "metadata": {
        "id": "oEa1v7Z-4uwh"
      },
      "execution_count": null,
      "outputs": []
    }
  ]
}