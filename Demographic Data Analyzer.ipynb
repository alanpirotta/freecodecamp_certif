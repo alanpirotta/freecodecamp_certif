{
 "cells": [
  {
   "cell_type": "code",
   "execution_count": 28,
   "id": "18093df5-6b77-4f79-9095-315503807bc6",
   "metadata": {},
   "outputs": [],
   "source": [
    "import pandas as pd\n",
    "import numpy as np"
   ]
  },
  {
   "cell_type": "code",
   "execution_count": 2,
   "id": "f260e1c8-b811-4515-b785-8a72eb5f0f1a",
   "metadata": {},
   "outputs": [
    {
     "name": "stdout",
     "output_type": "stream",
     "text": [
      "<class 'pandas.core.frame.DataFrame'>\n",
      "RangeIndex: 32561 entries, 0 to 32560\n",
      "Data columns (total 15 columns):\n",
      " #   Column          Non-Null Count  Dtype \n",
      "---  ------          --------------  ----- \n",
      " 0   age             32561 non-null  int64 \n",
      " 1   workclass       32561 non-null  object\n",
      " 2   fnlwgt          32561 non-null  int64 \n",
      " 3   education       32561 non-null  object\n",
      " 4   education-num   32561 non-null  int64 \n",
      " 5   marital-status  32561 non-null  object\n",
      " 6   occupation      32561 non-null  object\n",
      " 7   relationship    32561 non-null  object\n",
      " 8   race            32561 non-null  object\n",
      " 9   sex             32561 non-null  object\n",
      " 10  capital-gain    32561 non-null  int64 \n",
      " 11  capital-loss    32561 non-null  int64 \n",
      " 12  hours-per-week  32561 non-null  int64 \n",
      " 13  native-country  32561 non-null  object\n",
      " 14  salary          32561 non-null  object\n",
      "dtypes: int64(6), object(9)\n",
      "memory usage: 3.7+ MB\n"
     ]
    }
   ],
   "source": [
    "df = pd.read_csv('adult.data.csv')\n",
    "df.info()"
   ]
  },
  {
   "cell_type": "code",
   "execution_count": 3,
   "id": "12906a6a-0a9c-4846-94c6-e8a357e0851c",
   "metadata": {},
   "outputs": [],
   "source": [
    "race_count = df['race'].value_counts()"
   ]
  },
  {
   "cell_type": "code",
   "execution_count": 103,
   "id": "cf245fb5-be6d-4c56-92a6-8f3023f429ad",
   "metadata": {},
   "outputs": [],
   "source": [
    "average_age_men = np.around(df[ df['sex'] == 'Male']['age'].mean(),1)"
   ]
  },
  {
   "cell_type": "code",
   "execution_count": 5,
   "id": "adc620a0-6658-433a-b7fa-60047a0e3c69",
   "metadata": {},
   "outputs": [
    {
     "data": {
      "text/plain": [
       "<=50K    24720\n",
       ">50K      7841\n",
       "Name: salary, dtype: int64"
      ]
     },
     "execution_count": 5,
     "metadata": {},
     "output_type": "execute_result"
    }
   ],
   "source": [
    "df['salary'].value_counts()"
   ]
  },
  {
   "cell_type": "code",
   "execution_count": 102,
   "id": "8b779cd2-7134-4c99-84b8-12e79d554ff3",
   "metadata": {},
   "outputs": [],
   "source": [
    "percentage_bachelors = np.around(100 * df['education'].value_counts().loc['Bachelors'] / len(df.index),1)"
   ]
  },
  {
   "cell_type": "code",
   "execution_count": 7,
   "id": "30ad5c0c-9ae0-4823-adcc-f089f50f6ddd",
   "metadata": {},
   "outputs": [
    {
     "data": {
      "text/plain": [
       "46.535843011613935"
      ]
     },
     "execution_count": 7,
     "metadata": {},
     "output_type": "execute_result"
    }
   ],
   "source": [
    "# What percentage of people with advanced education (`Bachelors`, `Masters`, or `Doctorate`) make more than 50K?\n",
    "100 * len(df[((df['education'] == 'Bachelors') | (df['education'] == 'Masters') | (df['education'] == 'Doctorate')) & (df['salary'] == '>50K')].index) / len(df[(df['education'] == 'Bachelors') | (df['education'] == 'Masters') | (df['education'] == 'Doctorate')].index)"
   ]
  },
  {
   "cell_type": "code",
   "execution_count": 8,
   "id": "5e6991cb-838b-40a5-bd0b-468bf3738e3c",
   "metadata": {},
   "outputs": [
    {
     "data": {
      "text/plain": [
       "17.3713601914639"
      ]
     },
     "execution_count": 8,
     "metadata": {},
     "output_type": "execute_result"
    }
   ],
   "source": [
    "# What percentage of people without advanced education make more than 50K?\n",
    "df2 = df.drop(df[((df['education'] == 'Bachelors') | (df['education'] == 'Masters') | (df['education'] == 'Doctorate'))].index)\n",
    "100 * len(df2[df2['salary'] == '>50K']) / len(df2)"
   ]
  },
  {
   "cell_type": "code",
   "execution_count": 9,
   "id": "24254baa-9ba6-487d-946a-945abcb82a95",
   "metadata": {},
   "outputs": [],
   "source": [
    "higher_education = df[((df['education'] == 'Bachelors') | (df['education'] == 'Masters') | (df['education'] == 'Doctorate'))].shape[0]"
   ]
  },
  {
   "cell_type": "code",
   "execution_count": 10,
   "id": "b979ba33-3a97-4b1a-9e76-b7a943cdc0e0",
   "metadata": {},
   "outputs": [],
   "source": [
    "lower_education = df2.shape[0]"
   ]
  },
  {
   "cell_type": "code",
   "execution_count": 101,
   "id": "8274ca11-1bd7-4bf8-acca-640580391f67",
   "metadata": {},
   "outputs": [],
   "source": [
    "higher_education_rich = np.around(100 * len(df[((df['education'] == 'Bachelors') | (df['education'] == 'Masters') | (df['education'] == 'Doctorate')) & (df['salary'] == '>50K')].index) / len(df[(df['education'] == 'Bachelors') | (df['education'] == 'Masters') | (df['education'] == 'Doctorate')].index),1)"
   ]
  },
  {
   "cell_type": "code",
   "execution_count": 99,
   "id": "cdf7c8f1-8138-4500-b48d-4db52d5773a6",
   "metadata": {},
   "outputs": [],
   "source": [
    "lower_education_rich = np.around(100 * df2[df2['salary'] == '>50K'].shape[0] / df2.shape[0],1)"
   ]
  },
  {
   "cell_type": "code",
   "execution_count": 14,
   "id": "a13c7bd6-6331-45ec-a376-40db3c4027a4",
   "metadata": {},
   "outputs": [],
   "source": [
    "min_work_hours = df['hours-per-week'].min()\n",
    "num_min_workers = df[df['hours-per-week'] == df['hours-per-week'].min()].shape[0]\n"
   ]
  },
  {
   "cell_type": "code",
   "execution_count": 100,
   "id": "aeb05f09-45f9-4298-8c84-d910d40298e2",
   "metadata": {},
   "outputs": [],
   "source": [
    "# What percentage of the people who work the minimum number of hours per week have a salary of >50K?\n",
    "rich_percentage = 100 * df[ (df['hours-per-week'] == 1) & (df['salary'] == '>50K') ].shape[0] / df[ (df['hours-per-week'] == 1)].shape[0]"
   ]
  },
  {
   "cell_type": "code",
   "execution_count": 97,
   "id": "9b7b4985-09d7-449c-bce8-7aacb72e03a5",
   "metadata": {},
   "outputs": [],
   "source": [
    "df3 = df [df['salary'] == '>50K']\n",
    "total_workers = df.groupby('native-country')['salary'].count()\n",
    "rich_workers = df3.groupby('native-country')['salary'].count()\n",
    "workers_per_country_data = {'total_workers': total_workers, 'rich_workers': rich_workers}\n",
    "workers_per_country = pd.DataFrame(workers_per_country_data)\n",
    "workers_per_country['rich_percentage'] = np.around(100 *  workers_per_country['rich_workers'] / workers_per_country['total_workers'],1)\n",
    "workers_per_country = workers_per_country.sort_values(by=['rich_percentage'], ascending=False)\n",
    "highest_earning_country = workers_per_country.iloc[0].name\n",
    "highest_earning_country_percentage = workers_per_country.iloc[0].rich_percentage"
   ]
  },
  {
   "cell_type": "code",
   "execution_count": 98,
   "id": "01f18d34-019a-4b3a-b256-7c6fe01913c2",
   "metadata": {},
   "outputs": [],
   "source": [
    "top_IN_occupation = df3 [ df3['native-country'] == 'India' ]['occupation'].value_counts().idxmax()"
   ]
  },
  {
   "cell_type": "markdown",
   "id": "14861b34-419d-4894-9027-b3d9c0852e37",
   "metadata": {},
   "source": [
    "Las celdas anteriores irían dentro del método de la celda siguiente"
   ]
  },
  {
   "cell_type": "code",
   "execution_count": 18,
   "id": "2eee5a1c-f4ca-4b0c-9faf-aa1acc92adc7",
   "metadata": {},
   "outputs": [],
   "source": [
    "\n",
    "def calculate_demographic_data(print_data=True):\n",
    "\n",
    "\n",
    "    # DO NOT MODIFY BELOW THIS LINE\n",
    "\n",
    "    if print_data:\n",
    "        print(\"Number of each race:\\n\", race_count) \n",
    "        print(\"Average age of men:\", average_age_men)\n",
    "        print(f\"Percentage with Bachelors degrees: {percentage_bachelors}%\")\n",
    "        print(f\"Percentage with higher education that earn >50K: {higher_education_rich}%\")\n",
    "        print(f\"Percentage without higher education that earn >50K: {lower_education_rich}%\")\n",
    "        print(f\"Min work time: {min_work_hours} hours/week\")\n",
    "        print(f\"Percentage of rich among those who work fewest hours: {rich_percentage}%\")\n",
    "        print(\"Country with highest percentage of rich:\", highest_earning_country)\n",
    "        print(f\"Highest percentage of rich people in country: {highest_earning_country_percentage}%\")\n",
    "        print(\"Top occupations in India:\", top_IN_occupation)\n",
    "\n",
    "    return {\n",
    "        'race_count': race_count,\n",
    "        'average_age_men': average_age_men,\n",
    "        'percentage_bachelors': percentage_bachelors,\n",
    "        'higher_education_rich': higher_education_rich,\n",
    "        'lower_education_rich': lower_education_rich,\n",
    "        'min_work_hours': min_work_hours,\n",
    "        'rich_percentage': rich_percentage,\n",
    "        'highest_earning_country': highest_earning_country,\n",
    "        'highest_earning_country_percentage':\n",
    "        highest_earning_country_percentage,\n",
    "        'top_IN_occupation': top_IN_occupation\n",
    "    }\n"
   ]
  }
 ],
 "metadata": {
  "kernelspec": {
   "display_name": "Python 3 (ipykernel)",
   "language": "python",
   "name": "python3"
  },
  "language_info": {
   "codemirror_mode": {
    "name": "ipython",
    "version": 3
   },
   "file_extension": ".py",
   "mimetype": "text/x-python",
   "name": "python",
   "nbconvert_exporter": "python",
   "pygments_lexer": "ipython3",
   "version": "3.9.7"
  }
 },
 "nbformat": 4,
 "nbformat_minor": 5
}
